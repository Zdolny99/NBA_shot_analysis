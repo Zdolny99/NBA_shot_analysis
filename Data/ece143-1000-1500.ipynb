{
 "cells": [
  {
   "cell_type": "code",
   "execution_count": 1,
   "id": "3d560612",
   "metadata": {
    "colab": {
     "base_uri": "https://localhost:8080/"
    },
    "id": "3d560612",
    "outputId": "096c19c5-5b9d-45ba-c680-9cd5d1dd2ed3",
    "scrolled": true
   },
   "outputs": [
    {
     "name": "stdout",
     "output_type": "stream",
     "text": [
      "Requirement already satisfied: nba_api in c:\\users\\siddhant\\appdata\\local\\programs\\python\\python310\\lib\\site-packages (1.1.13)\n",
      "Requirement already satisfied: numpy in c:\\users\\siddhant\\appdata\\local\\programs\\python\\python310\\lib\\site-packages (from nba_api) (1.23.3)\n",
      "Requirement already satisfied: requests in c:\\users\\siddhant\\appdata\\local\\programs\\python\\python310\\lib\\site-packages (from nba_api) (2.28.1)\n",
      "Requirement already satisfied: charset-normalizer<3,>=2 in c:\\users\\siddhant\\appdata\\local\\programs\\python\\python310\\lib\\site-packages (from requests->nba_api) (2.1.1)\n",
      "Requirement already satisfied: certifi>=2017.4.17 in c:\\users\\siddhant\\appdata\\local\\programs\\python\\python310\\lib\\site-packages (from requests->nba_api) (2022.9.24)\n",
      "Requirement already satisfied: urllib3<1.27,>=1.21.1 in c:\\users\\siddhant\\appdata\\local\\programs\\python\\python310\\lib\\site-packages (from requests->nba_api) (1.26.12)\n",
      "Requirement already satisfied: idna<4,>=2.5 in c:\\users\\siddhant\\appdata\\local\\programs\\python\\python310\\lib\\site-packages (from requests->nba_api) (3.4)\n"
     ]
    },
    {
     "name": "stderr",
     "output_type": "stream",
     "text": [
      "\n",
      "[notice] A new release of pip available: 22.2.2 -> 22.3.1\n",
      "[notice] To update, run: python.exe -m pip install --upgrade pip\n"
     ]
    }
   ],
   "source": [
    "!pip install nba_api\n",
    "import json\n",
    "import pandas\n",
    "import requests\n",
    "import nba_api\n",
    "import pandas as pd\n",
    "\n",
    "from nba_api.stats.endpoints import shotchartdetail\n",
    "from nba_api.stats.static import players\n",
    "from nba_api.stats.endpoints import commonplayerinfo"
   ]
  },
  {
   "cell_type": "code",
   "execution_count": 2,
   "id": "b6234101",
   "metadata": {
    "colab": {
     "base_uri": "https://localhost:8080/",
     "height": 531
    },
    "id": "b6234101",
    "outputId": "fd6d7726-4f19-4e01-a244-2e1f15d6da71"
   },
   "outputs": [],
   "source": [
    "response = shotchartdetail.ShotChartDetail(\n",
    "\tteam_id=0,\n",
    "\tplayer_id=201935,\n",
    "\tseason_nullable='2018-19',\n",
    "\tseason_type_all_star='Regular Season'\n",
    ")\n",
    "\n",
    "content = json.loads(response.get_json())"
   ]
  },
  {
   "cell_type": "code",
   "execution_count": 3,
   "id": "d9430691",
   "metadata": {
    "id": "d9430691"
   },
   "outputs": [],
   "source": [
    "all_players = players.get_players()\n",
    "all_players_id = [p['id'] for p in all_players]"
   ]
  },
  {
   "cell_type": "code",
   "execution_count": 4,
   "id": "23bb2580",
   "metadata": {
    "colab": {
     "base_uri": "https://localhost:8080/"
    },
    "id": "23bb2580",
    "outputId": "7c7b7bbe-0ba3-40e2-e6a0-f720f54ebc41"
   },
   "outputs": [
    {
     "data": {
      "text/plain": [
       "4831"
      ]
     },
     "execution_count": 4,
     "metadata": {},
     "output_type": "execute_result"
    }
   ],
   "source": [
    "len(all_players_id)"
   ]
  },
  {
   "cell_type": "code",
   "execution_count": 5,
   "id": "5545680c",
   "metadata": {
    "colab": {
     "base_uri": "https://localhost:8080/"
    },
    "id": "5545680c",
    "outputId": "655a303f-df4c-43a4-ae27-85f8be35d63d"
   },
   "outputs": [
    {
     "name": "stdout",
     "output_type": "stream",
     "text": [
      "582\n"
     ]
    }
   ],
   "source": [
    "active_players = []\n",
    "for p in all_players:\n",
    "    if p['is_active'] == True:\n",
    "        active_players.append(p['id'])\n",
    "        \n",
    "print(len(active_players))"
   ]
  },
  {
   "cell_type": "code",
   "execution_count": 6,
   "id": "ce418a88",
   "metadata": {
    "colab": {
     "base_uri": "https://localhost:8080/"
    },
    "id": "ce418a88",
    "outputId": "8b6ded05-d13d-40d9-b96c-5385aadd66ce"
   },
   "outputs": [
    {
     "data": {
      "text/plain": [
       "[1630173, 203500, 1628389]"
      ]
     },
     "execution_count": 6,
     "metadata": {},
     "output_type": "execute_result"
    }
   ],
   "source": [
    "active_players[:3]"
   ]
  },
  {
   "cell_type": "code",
   "execution_count": 7,
   "id": "665de652",
   "metadata": {},
   "outputs": [],
   "source": [
    "season_years = [i for i in range(1990, 2022)]"
   ]
  },
  {
   "cell_type": "code",
   "execution_count": 8,
   "id": "17c65461",
   "metadata": {
    "id": "17c65461"
   },
   "outputs": [],
   "source": [
    "import requests\n",
    "import json\n"
   ]
  },
  {
   "cell_type": "code",
   "execution_count": 9,
   "id": "5f926e1d",
   "metadata": {
    "id": "5f926e1d"
   },
   "outputs": [],
   "source": [
    "def get_season_no(season_year):\n",
    "    assert 1990 <= season_year <= 2022\n",
    "    return str(season_year) + '-' + str(season_year+1)[-2:]"
   ]
  },
  {
   "cell_type": "code",
   "execution_count": 10,
   "id": "4dafa353",
   "metadata": {},
   "outputs": [
    {
     "data": {
      "text/plain": [
       "'2000-01'"
      ]
     },
     "execution_count": 10,
     "metadata": {},
     "output_type": "execute_result"
    }
   ],
   "source": [
    "get_season_no(2000)"
   ]
  },
  {
   "cell_type": "code",
   "execution_count": 11,
   "id": "545d6437",
   "metadata": {
    "id": "545d6437"
   },
   "outputs": [],
   "source": [
    "def get_data_player_year(player_id, season_year):\n",
    "    url_base = 'https://stats.nba.com/stats/shotchartdetail'\n",
    "    print(\"player_id\",player_id)\n",
    "    season = get_season_no(season_year)\n",
    "    print(\"season\",season)\n",
    "    print('here1')\n",
    "    headers = {\n",
    "            'Host': 'stats.nba.com',\n",
    "            'Connection': 'keep-alive',\n",
    "            'Accept': 'application/json, text/plain, */*',\n",
    "            'User-Agent': 'Mozilla/5.0 (Windows NT 10.0; Win64; x64) AppleWebKit/537.36 (KHTML, like Gecko) Chrome/79.0.3945.130 Safari/537.36',\n",
    "            'Referer': 'https://stats.nba.com/',\n",
    "            \"x-nba-stats-origin\": \"stats\",\n",
    "            \"x-nba-stats-token\": \"true\",\n",
    "            'Accept-Encoding': 'gzip, deflate, br',\n",
    "            'Accept-Language': 'en-US,en;q=0.9',\n",
    "        }\n",
    "    print('here2')\n",
    "    parameters = {\n",
    "        'ContextMeasure': 'FGA',\n",
    "        'LastNGames': 0,\n",
    "        'LeagueID': '00',\n",
    "        'Month': 0,\n",
    "        'OpponentTeamID': 0,\n",
    "        'Period': 0,\n",
    "        'PlayerID': player_id,\n",
    "        'SeasonType': 'Regular Season',\n",
    "        'TeamID': 0,\n",
    "        'VsDivision': '',\n",
    "        'VsConference': '',\n",
    "        'SeasonSegment': '',\n",
    "        'Season': season,\n",
    "        'RookieYear': '',\n",
    "        'PlayerPosition': '',\n",
    "        'Outcome': '',\n",
    "        'Location': '',\n",
    "        'GameSegment': '',\n",
    "        'GameId': '',\n",
    "        'DateTo': '',\n",
    "        'DateFrom': ''\n",
    "    }\n",
    "    print('here3')\n",
    "    response = requests.get(url_base, params=parameters, headers=headers)\n",
    "    print('here4')\n",
    "    content = json.loads(response.content)\n",
    "    print('here5')\n",
    "    # transform contents into dataframe\n",
    "    results = content['resultSets'][0]\n",
    "    headers = results['headers']\n",
    "    rows = results['rowSet']\n",
    "    df = pd.DataFrame(rows)\n",
    "    df.columns = headers\n",
    "    return df\n",
    "    # print('here')\n",
    "    # print(list(df.iterrows()))\n",
    "    # print(\"bye\")\n",
    "    # return list(df.iterrows())"
   ]
  },
  {
   "cell_type": "code",
   "execution_count": 12,
   "id": "aad119fc",
   "metadata": {},
   "outputs": [],
   "source": [
    "def get_player_data(player_id):\n",
    "    url_base = 'https://stats.nba.com/stats/commonplayerinfo?LeagueID=&PlayerID='\n",
    "    print(\"player_id\",player_id)\n",
    "    print('here1')\n",
    "    headers = {\n",
    "            'Host': 'stats.nba.com',\n",
    "            'Connection': 'keep-alive',\n",
    "            'Accept': 'application/json, text/plain, */*',\n",
    "            'User-Agent': 'Mozilla/5.0 (Windows NT 10.0; Win64; x64) AppleWebKit/537.36 (KHTML, like Gecko) Chrome/79.0.3945.130 Safari/537.36',\n",
    "            'Referer': 'https://stats.nba.com/',\n",
    "            \"x-nba-stats-origin\": \"stats\",\n",
    "            \"x-nba-stats-token\": \"true\",\n",
    "            'Accept-Encoding': 'gzip, deflate, br',\n",
    "            'Accept-Language': 'en-US,en;q=0.9',\n",
    "        }\n",
    "    print('here2')\n",
    "    response = requests.get(url_base+str(player_id), headers=headers)\n",
    "    print('here4')\n",
    "    content = json.loads(response.content)\n",
    "    print('here5')\n",
    "    # transform contents into dataframe\n",
    "    results = content['resultSets'][0]\n",
    "    headers = results['headers']\n",
    "    rows = results['rowSet']\n",
    "    df = pd.DataFrame(rows)\n",
    "    df.columns = headers\n",
    "    return df\n",
    "    # print('here')\n",
    "    # print(list(df.iterrows()))\n",
    "    # print(\"bye\")\n",
    "    # return list(df.iterrows())"
   ]
  },
  {
   "cell_type": "code",
   "execution_count": 13,
   "id": "fb8c9024",
   "metadata": {},
   "outputs": [
    {
     "name": "stdout",
     "output_type": "stream",
     "text": [
      "player_id 76001\n",
      "here1\n",
      "here2\n",
      "here4\n",
      "here5\n",
      "1990\n",
      "1994\n"
     ]
    }
   ],
   "source": [
    "trial = get_player_data(76001)\n",
    "print(trial['FROM_YEAR'][0])\n",
    "print(trial['TO_YEAR'][0])"
   ]
  },
  {
   "cell_type": "code",
   "execution_count": 14,
   "id": "3dc03842",
   "metadata": {},
   "outputs": [
    {
     "name": "stdout",
     "output_type": "stream",
     "text": [
      "player_id 203500\n",
      "season 2020-21\n",
      "here1\n",
      "here2\n",
      "here3\n",
      "here4\n",
      "here5\n"
     ]
    }
   ],
   "source": [
    "tttt = get_data_player_year(203500, 2020)"
   ]
  },
  {
   "cell_type": "code",
   "execution_count": null,
   "id": "628824e3",
   "metadata": {
    "colab": {
     "base_uri": "https://localhost:8080/"
    },
    "id": "628824e3",
    "outputId": "5c528738-36ab-4ddd-8ef7-2406eb799e3b"
   },
   "outputs": [
    {
     "name": "stdout",
     "output_type": "stream",
     "text": [
      "helo\n",
      "player is 1631120\n",
      "player_id 1631120\n",
      "here1\n",
      "here2\n",
      "here4\n",
      "here5\n",
      "player is 203958\n",
      "player_id 203958\n",
      "here1\n",
      "here2\n",
      "here4\n",
      "here5\n",
      "2014\n",
      "player_id 203958\n",
      "season 2014-15\n",
      "here1\n",
      "here2\n",
      "here3\n",
      "here4\n",
      "here5\n",
      "dft done\n",
      "success\n",
      "player is 76539\n",
      "player_id 76539\n",
      "here1\n",
      "here2\n",
      "here4\n",
      "here5\n",
      "player is 1008\n",
      "player_id 1008\n",
      "here1\n",
      "here2\n",
      "here4\n",
      "here5\n",
      "1990\n",
      "player_id 1008\n",
      "season 1990-91\n",
      "here1\n",
      "here2\n",
      "here3\n",
      "here4\n",
      "here5\n",
      "unsuccessful\n",
      "1991\n",
      "player_id 1008\n",
      "season 1991-92\n",
      "here1\n",
      "here2\n",
      "here3\n",
      "here4\n",
      "here5\n",
      "unsuccessful\n",
      "1992\n",
      "player_id 1008\n",
      "season 1992-93\n",
      "here1\n",
      "here2\n",
      "here3\n",
      "here4\n",
      "here5\n",
      "unsuccessful\n",
      "1993\n",
      "player_id 1008\n",
      "season 1993-94\n",
      "here1\n",
      "here2\n",
      "here3\n",
      "here4\n",
      "here5\n",
      "unsuccessful\n",
      "1994\n",
      "player_id 1008\n",
      "season 1994-95\n",
      "here1\n",
      "here2\n",
      "here3\n",
      "here4\n",
      "here5\n",
      "unsuccessful\n",
      "player is 76541\n",
      "player_id 76541\n",
      "here1\n",
      "here2\n",
      "here4\n",
      "here5\n",
      "player is 1626183\n",
      "player_id 1626183\n",
      "here1\n",
      "here2\n",
      "here4\n",
      "here5\n",
      "2015\n",
      "player_id 1626183\n",
      "season 2015-16\n",
      "here1\n",
      "here2\n",
      "here3\n",
      "here4\n",
      "here5\n",
      "dft done\n",
      "success\n",
      "player is 201286\n",
      "player_id 201286\n",
      "here1\n",
      "here2\n",
      "here4\n",
      "here5\n",
      "2011\n",
      "player_id 201286\n",
      "season 2011-12\n",
      "here1\n",
      "here2\n",
      "here3\n",
      "here4\n",
      "here5\n",
      "dft done\n",
      "success\n",
      "player is 76542\n",
      "player_id 76542\n",
      "here1\n",
      "here2\n",
      "here4\n",
      "here5\n",
      "1990\n",
      "player_id 76542\n",
      "season 1990-91\n",
      "here1\n",
      "here2\n",
      "here3\n",
      "here4\n",
      "here5\n",
      "unsuccessful\n",
      "1991\n",
      "player_id 76542\n",
      "season 1991-92\n",
      "here1\n",
      "here2\n",
      "here3\n",
      "here4\n",
      "here5\n",
      "unsuccessful\n",
      "1992\n",
      "player_id 76542\n",
      "season 1992-93\n",
      "here1\n",
      "here2\n",
      "here3\n",
      "here4\n",
      "here5\n",
      "unsuccessful\n",
      "1993\n",
      "player_id 76542\n",
      "season 1993-94\n",
      "here1\n",
      "here2\n",
      "here3\n",
      "here4\n",
      "here5\n",
      "unsuccessful\n",
      "1994\n",
      "player_id 76542\n",
      "season 1994-95\n",
      "here1\n",
      "here2\n",
      "here3\n",
      "here4\n",
      "here5\n",
      "unsuccessful\n",
      "player is 103\n",
      "player_id 103\n",
      "here1\n",
      "here2\n",
      "here4\n",
      "here5\n",
      "1992\n",
      "player_id 103\n",
      "season 1992-93\n",
      "here1\n",
      "here2\n",
      "here3\n",
      "here4\n",
      "here5\n",
      "unsuccessful\n",
      "1993\n",
      "player_id 103\n",
      "season 1993-94\n",
      "here1\n",
      "here2\n",
      "here3\n",
      "here4\n",
      "here5\n",
      "unsuccessful\n",
      "1994\n",
      "player_id 103\n",
      "season 1994-95\n",
      "here1\n",
      "here2\n",
      "here3\n",
      "here4\n",
      "here5\n",
      "unsuccessful\n",
      "1995\n",
      "player_id 103\n",
      "season 1995-96\n",
      "here1\n",
      "here2\n",
      "here3\n",
      "here4\n",
      "here5\n",
      "unsuccessful\n",
      "1996\n",
      "player_id 103\n",
      "season 1996-97\n",
      "here1\n",
      "here2\n",
      "here3\n",
      "here4\n",
      "here5\n",
      "dft done\n",
      "success\n",
      "1997\n",
      "player_id 103\n",
      "season 1997-98\n",
      "here1\n",
      "here2\n",
      "here3\n",
      "here4\n",
      "here5\n",
      "dft done\n",
      "success\n",
      "1998\n",
      "player_id 103\n",
      "season 1998-99\n",
      "here1\n",
      "here2\n",
      "here3\n",
      "here4\n",
      "here5\n",
      "unsuccessful\n",
      "1999\n",
      "player_id 103\n",
      "season 1999-00\n",
      "here1\n",
      "here2\n",
      "here3\n",
      "here4\n",
      "here5\n",
      "dft done\n",
      "success\n",
      "2000\n",
      "player_id 103\n",
      "season 2000-01\n",
      "here1\n",
      "here2\n",
      "here3\n",
      "here4\n",
      "here5\n",
      "dft done\n",
      "success\n",
      "player is 201948\n",
      "player_id 201948\n",
      "here1\n",
      "here2\n",
      "here4\n",
      "here5\n",
      "2009\n",
      "player_id 201948\n",
      "season 2009-10\n",
      "here1\n",
      "here2\n",
      "here3\n",
      "here4\n",
      "here5\n",
      "dft done\n",
      "success\n",
      "2010\n",
      "player_id 201948\n",
      "season 2010-11\n",
      "here1\n",
      "here2\n",
      "here3\n",
      "here4\n",
      "here5\n",
      "dft done\n",
      "success\n",
      "2011\n",
      "player_id 201948\n",
      "season 2011-12\n",
      "here1\n",
      "here2\n",
      "here3\n",
      "here4\n",
      "here5\n",
      "dft done\n",
      "check\n",
      "success\n",
      "2012\n",
      "player_id 201948\n",
      "season 2012-13\n",
      "here1\n",
      "here2\n",
      "here3\n",
      "here4\n",
      "here5\n",
      "dft done\n",
      "success\n",
      "2013\n",
      "player_id 201948\n",
      "season 2013-14\n",
      "here1\n",
      "here2\n",
      "here3\n",
      "here4\n",
      "here5\n",
      "dft done\n",
      "success\n",
      "2014\n",
      "player_id 201948\n",
      "season 2014-15\n",
      "here1\n",
      "here2\n",
      "here3\n",
      "here4\n",
      "here5\n",
      "dft done\n",
      "check\n",
      "success\n",
      "player is 76543\n",
      "player_id 76543\n",
      "here1\n",
      "here2\n",
      "here4\n",
      "here5\n",
      "player is 1630620\n",
      "player_id 1630620\n",
      "here1\n",
      "here2\n"
     ]
    }
   ],
   "source": [
    "df = {}\n",
    "\n",
    "import time\n",
    "print(\"helo\")\n",
    "for i in range(1000,1500):\n",
    "    player_id = all_players_id[i]\n",
    "    print(\"player is\", player_id)\n",
    "    player_info = get_player_data(player_id)\n",
    "    from_year = player_info['FROM_YEAR'][0]\n",
    "    to_year = player_info['TO_YEAR'][0]\n",
    "    \n",
    "    if to_year >= 1990:\n",
    "        for season_year in range(max(from_year, 1990), min(to_year, 2021)+1):\n",
    "            print(season_year)\n",
    "            try:\n",
    "                time.sleep(1)\n",
    "                dft = get_data_player_year(player_id, season_year)\n",
    "                dft.to_csv(str(player_id)+'-'+str(season_year)+'.csv', index=False)\n",
    "                print('dft done')\n",
    "                if season_year not in df:\n",
    "                  df[season_year] = dft\n",
    "                else:\n",
    "                  print('check')\n",
    "                  df[season_year] = pd.concat([df[season_year], dft], axis=0)\n",
    "                print('success')\n",
    "            except:\n",
    "                print('unsuccessful')\n",
    "                pass\n",
    "\n",
    "\n",
    "# write to csv file\n",
    "# df.to_csv(str(parameters['PlayerID'])+'.csv', index=False)"
   ]
  },
  {
   "cell_type": "code",
   "execution_count": null,
   "id": "19a3cf0f",
   "metadata": {},
   "outputs": [],
   "source": []
  },
  {
   "cell_type": "code",
   "execution_count": null,
   "id": "ntpnbf0ft4Vn",
   "metadata": {
    "colab": {
     "base_uri": "https://localhost:8080/",
     "height": 187
    },
    "id": "ntpnbf0ft4Vn",
    "outputId": "c44a44c2-b2a5-44c3-ea35-c69e7c6ba4b0"
   },
   "outputs": [],
   "source": [
    "print(df['2020-21'])\n",
    "df['2020-21'].to_csv('nba.csv', encoding='utf-8', index=False)"
   ]
  },
  {
   "cell_type": "code",
   "execution_count": null,
   "id": "2bca48b4",
   "metadata": {
    "id": "2bca48b4",
    "outputId": "b9fca138-cb0c-477e-c4a4-b9ee1399d338"
   },
   "outputs": [
    {
     "data": {
      "text/plain": [
       "array(['Center(C)', 'Right Side(R)', 'Left Side(L)',\n",
       "       'Left Side Center(LC)'], dtype=object)"
      ]
     },
     "execution_count": 224,
     "metadata": {},
     "output_type": "execute_result"
    }
   ],
   "source": [
    "df.SHOT_ZONE_AREA.unique()"
   ]
  },
  {
   "cell_type": "code",
   "execution_count": null,
   "id": "2b84afe2",
   "metadata": {
    "id": "2b84afe2"
   },
   "outputs": [],
   "source": [
    "def calcPoints(x, y):\n",
    "    if y < 115:\n",
    "        return 2 if abs(x) < 220 else 3\n",
    "    else:\n",
    "        return 2 if x**2 + y**2 < 237.5**2 else 3\n",
    "        "
   ]
  },
  {
   "cell_type": "code",
   "execution_count": null,
   "id": "096824bd",
   "metadata": {
    "id": "096824bd"
   },
   "outputs": [],
   "source": [
    "dft = df[:10]"
   ]
  },
  {
   "cell_type": "code",
   "execution_count": null,
   "id": "19fae2eb",
   "metadata": {
    "id": "19fae2eb",
    "outputId": "7e5ce1e6-9612-4fb8-a13e-7af7d24422ef"
   },
   "outputs": [
    {
     "name": "stdout",
     "output_type": "stream",
     "text": [
      "11\n",
      "55\n",
      "40\n",
      "-29\n",
      "15\n",
      "-12\n",
      "-12\n",
      "0\n",
      "24\n",
      "-29\n"
     ]
    }
   ],
   "source": [
    "for index, rows in dft.iterrows():\n",
    "    print(rows['LOC_X'])"
   ]
  },
  {
   "cell_type": "code",
   "execution_count": null,
   "id": "f4f42137",
   "metadata": {
    "id": "f4f42137"
   },
   "outputs": [],
   "source": [
    "points = [calcPoints(rows['LOC_X'], rows['LOC_Y']) for index, rows in df.iterrows()]"
   ]
  },
  {
   "cell_type": "code",
   "execution_count": null,
   "id": "0573d286",
   "metadata": {
    "id": "0573d286",
    "outputId": "23831f6e-05e3-4257-9f6a-4b50b53e9d32"
   },
   "outputs": [
    {
     "data": {
      "text/plain": [
       "228"
      ]
     },
     "execution_count": 229,
     "metadata": {},
     "output_type": "execute_result"
    }
   ],
   "source": [
    "len(points)"
   ]
  },
  {
   "cell_type": "code",
   "execution_count": null,
   "id": "c2eaef63",
   "metadata": {
    "id": "c2eaef63",
    "outputId": "07811aed-3ac7-4e0e-832c-476cc4835f25"
   },
   "outputs": [
    {
     "data": {
      "text/plain": [
       "228"
      ]
     },
     "execution_count": 230,
     "metadata": {},
     "output_type": "execute_result"
    }
   ],
   "source": [
    "len(df)"
   ]
  },
  {
   "cell_type": "code",
   "execution_count": null,
   "id": "4642c42a",
   "metadata": {
    "id": "4642c42a"
   },
   "outputs": [],
   "source": [
    "df['attempted_points'] = points"
   ]
  },
  {
   "cell_type": "code",
   "execution_count": null,
   "id": "b38c69d9",
   "metadata": {
    "id": "b38c69d9",
    "outputId": "b42f7162-fa9c-4bd5-9e68-4b98c967f242"
   },
   "outputs": [
    {
     "data": {
      "text/html": [
       "<div>\n",
       "<style scoped>\n",
       "    .dataframe tbody tr th:only-of-type {\n",
       "        vertical-align: middle;\n",
       "    }\n",
       "\n",
       "    .dataframe tbody tr th {\n",
       "        vertical-align: top;\n",
       "    }\n",
       "\n",
       "    .dataframe thead th {\n",
       "        text-align: right;\n",
       "    }\n",
       "</style>\n",
       "<table border=\"1\" class=\"dataframe\">\n",
       "  <thead>\n",
       "    <tr style=\"text-align: right;\">\n",
       "      <th></th>\n",
       "      <th>GRID_TYPE</th>\n",
       "      <th>GAME_ID</th>\n",
       "      <th>GAME_EVENT_ID</th>\n",
       "      <th>PLAYER_ID</th>\n",
       "      <th>PLAYER_NAME</th>\n",
       "      <th>TEAM_ID</th>\n",
       "      <th>TEAM_NAME</th>\n",
       "      <th>PERIOD</th>\n",
       "      <th>MINUTES_REMAINING</th>\n",
       "      <th>SECONDS_REMAINING</th>\n",
       "      <th>...</th>\n",
       "      <th>SHOT_ZONE_RANGE</th>\n",
       "      <th>SHOT_DISTANCE</th>\n",
       "      <th>LOC_X</th>\n",
       "      <th>LOC_Y</th>\n",
       "      <th>SHOT_ATTEMPTED_FLAG</th>\n",
       "      <th>SHOT_MADE_FLAG</th>\n",
       "      <th>GAME_DATE</th>\n",
       "      <th>HTM</th>\n",
       "      <th>VTM</th>\n",
       "      <th>attempted_points</th>\n",
       "    </tr>\n",
       "  </thead>\n",
       "  <tbody>\n",
       "    <tr>\n",
       "      <th>0</th>\n",
       "      <td>Shot Chart Detail</td>\n",
       "      <td>0022000005</td>\n",
       "      <td>92</td>\n",
       "      <td>1630173</td>\n",
       "      <td>Precious Achiuwa</td>\n",
       "      <td>1610612748</td>\n",
       "      <td>Miami Heat</td>\n",
       "      <td>1</td>\n",
       "      <td>3</td>\n",
       "      <td>40</td>\n",
       "      <td>...</td>\n",
       "      <td>Less Than 8 ft.</td>\n",
       "      <td>1</td>\n",
       "      <td>11</td>\n",
       "      <td>16</td>\n",
       "      <td>1</td>\n",
       "      <td>1</td>\n",
       "      <td>20201225</td>\n",
       "      <td>MIA</td>\n",
       "      <td>NOP</td>\n",
       "      <td>2</td>\n",
       "    </tr>\n",
       "    <tr>\n",
       "      <th>1</th>\n",
       "      <td>Shot Chart Detail</td>\n",
       "      <td>0022000005</td>\n",
       "      <td>226</td>\n",
       "      <td>1630173</td>\n",
       "      <td>Precious Achiuwa</td>\n",
       "      <td>1610612748</td>\n",
       "      <td>Miami Heat</td>\n",
       "      <td>2</td>\n",
       "      <td>6</td>\n",
       "      <td>4</td>\n",
       "      <td>...</td>\n",
       "      <td>Less Than 8 ft.</td>\n",
       "      <td>5</td>\n",
       "      <td>55</td>\n",
       "      <td>16</td>\n",
       "      <td>1</td>\n",
       "      <td>0</td>\n",
       "      <td>20201225</td>\n",
       "      <td>MIA</td>\n",
       "      <td>NOP</td>\n",
       "      <td>2</td>\n",
       "    </tr>\n",
       "    <tr>\n",
       "      <th>2</th>\n",
       "      <td>Shot Chart Detail</td>\n",
       "      <td>0022000005</td>\n",
       "      <td>393</td>\n",
       "      <td>1630173</td>\n",
       "      <td>Precious Achiuwa</td>\n",
       "      <td>1610612748</td>\n",
       "      <td>Miami Heat</td>\n",
       "      <td>3</td>\n",
       "      <td>6</td>\n",
       "      <td>1</td>\n",
       "      <td>...</td>\n",
       "      <td>Less Than 8 ft.</td>\n",
       "      <td>4</td>\n",
       "      <td>40</td>\n",
       "      <td>-9</td>\n",
       "      <td>1</td>\n",
       "      <td>0</td>\n",
       "      <td>20201225</td>\n",
       "      <td>MIA</td>\n",
       "      <td>NOP</td>\n",
       "      <td>2</td>\n",
       "    </tr>\n",
       "    <tr>\n",
       "      <th>3</th>\n",
       "      <td>Shot Chart Detail</td>\n",
       "      <td>0022000005</td>\n",
       "      <td>402</td>\n",
       "      <td>1630173</td>\n",
       "      <td>Precious Achiuwa</td>\n",
       "      <td>1610612748</td>\n",
       "      <td>Miami Heat</td>\n",
       "      <td>3</td>\n",
       "      <td>5</td>\n",
       "      <td>32</td>\n",
       "      <td>...</td>\n",
       "      <td>Less Than 8 ft.</td>\n",
       "      <td>3</td>\n",
       "      <td>-29</td>\n",
       "      <td>12</td>\n",
       "      <td>1</td>\n",
       "      <td>1</td>\n",
       "      <td>20201225</td>\n",
       "      <td>MIA</td>\n",
       "      <td>NOP</td>\n",
       "      <td>2</td>\n",
       "    </tr>\n",
       "    <tr>\n",
       "      <th>4</th>\n",
       "      <td>Shot Chart Detail</td>\n",
       "      <td>0022000005</td>\n",
       "      <td>412</td>\n",
       "      <td>1630173</td>\n",
       "      <td>Precious Achiuwa</td>\n",
       "      <td>1610612748</td>\n",
       "      <td>Miami Heat</td>\n",
       "      <td>3</td>\n",
       "      <td>4</td>\n",
       "      <td>59</td>\n",
       "      <td>...</td>\n",
       "      <td>Less Than 8 ft.</td>\n",
       "      <td>2</td>\n",
       "      <td>15</td>\n",
       "      <td>17</td>\n",
       "      <td>1</td>\n",
       "      <td>1</td>\n",
       "      <td>20201225</td>\n",
       "      <td>MIA</td>\n",
       "      <td>NOP</td>\n",
       "      <td>2</td>\n",
       "    </tr>\n",
       "    <tr>\n",
       "      <th>...</th>\n",
       "      <td>...</td>\n",
       "      <td>...</td>\n",
       "      <td>...</td>\n",
       "      <td>...</td>\n",
       "      <td>...</td>\n",
       "      <td>...</td>\n",
       "      <td>...</td>\n",
       "      <td>...</td>\n",
       "      <td>...</td>\n",
       "      <td>...</td>\n",
       "      <td>...</td>\n",
       "      <td>...</td>\n",
       "      <td>...</td>\n",
       "      <td>...</td>\n",
       "      <td>...</td>\n",
       "      <td>...</td>\n",
       "      <td>...</td>\n",
       "      <td>...</td>\n",
       "      <td>...</td>\n",
       "      <td>...</td>\n",
       "      <td>...</td>\n",
       "    </tr>\n",
       "    <tr>\n",
       "      <th>223</th>\n",
       "      <td>Shot Chart Detail</td>\n",
       "      <td>0022001069</td>\n",
       "      <td>448</td>\n",
       "      <td>1630173</td>\n",
       "      <td>Precious Achiuwa</td>\n",
       "      <td>1610612748</td>\n",
       "      <td>Miami Heat</td>\n",
       "      <td>3</td>\n",
       "      <td>1</td>\n",
       "      <td>47</td>\n",
       "      <td>...</td>\n",
       "      <td>Less Than 8 ft.</td>\n",
       "      <td>5</td>\n",
       "      <td>-43</td>\n",
       "      <td>27</td>\n",
       "      <td>1</td>\n",
       "      <td>1</td>\n",
       "      <td>20210516</td>\n",
       "      <td>DET</td>\n",
       "      <td>MIA</td>\n",
       "      <td>2</td>\n",
       "    </tr>\n",
       "    <tr>\n",
       "      <th>224</th>\n",
       "      <td>Shot Chart Detail</td>\n",
       "      <td>0022001069</td>\n",
       "      <td>550</td>\n",
       "      <td>1630173</td>\n",
       "      <td>Precious Achiuwa</td>\n",
       "      <td>1610612748</td>\n",
       "      <td>Miami Heat</td>\n",
       "      <td>4</td>\n",
       "      <td>4</td>\n",
       "      <td>7</td>\n",
       "      <td>...</td>\n",
       "      <td>Less Than 8 ft.</td>\n",
       "      <td>2</td>\n",
       "      <td>-20</td>\n",
       "      <td>5</td>\n",
       "      <td>1</td>\n",
       "      <td>1</td>\n",
       "      <td>20210516</td>\n",
       "      <td>DET</td>\n",
       "      <td>MIA</td>\n",
       "      <td>2</td>\n",
       "    </tr>\n",
       "    <tr>\n",
       "      <th>225</th>\n",
       "      <td>Shot Chart Detail</td>\n",
       "      <td>0022001069</td>\n",
       "      <td>570</td>\n",
       "      <td>1630173</td>\n",
       "      <td>Precious Achiuwa</td>\n",
       "      <td>1610612748</td>\n",
       "      <td>Miami Heat</td>\n",
       "      <td>4</td>\n",
       "      <td>1</td>\n",
       "      <td>59</td>\n",
       "      <td>...</td>\n",
       "      <td>Less Than 8 ft.</td>\n",
       "      <td>1</td>\n",
       "      <td>-13</td>\n",
       "      <td>6</td>\n",
       "      <td>1</td>\n",
       "      <td>0</td>\n",
       "      <td>20210516</td>\n",
       "      <td>DET</td>\n",
       "      <td>MIA</td>\n",
       "      <td>2</td>\n",
       "    </tr>\n",
       "    <tr>\n",
       "      <th>226</th>\n",
       "      <td>Shot Chart Detail</td>\n",
       "      <td>0022001069</td>\n",
       "      <td>572</td>\n",
       "      <td>1630173</td>\n",
       "      <td>Precious Achiuwa</td>\n",
       "      <td>1610612748</td>\n",
       "      <td>Miami Heat</td>\n",
       "      <td>4</td>\n",
       "      <td>1</td>\n",
       "      <td>55</td>\n",
       "      <td>...</td>\n",
       "      <td>Less Than 8 ft.</td>\n",
       "      <td>0</td>\n",
       "      <td>0</td>\n",
       "      <td>0</td>\n",
       "      <td>1</td>\n",
       "      <td>1</td>\n",
       "      <td>20210516</td>\n",
       "      <td>DET</td>\n",
       "      <td>MIA</td>\n",
       "      <td>2</td>\n",
       "    </tr>\n",
       "    <tr>\n",
       "      <th>227</th>\n",
       "      <td>Shot Chart Detail</td>\n",
       "      <td>0022001069</td>\n",
       "      <td>592</td>\n",
       "      <td>1630173</td>\n",
       "      <td>Precious Achiuwa</td>\n",
       "      <td>1610612748</td>\n",
       "      <td>Miami Heat</td>\n",
       "      <td>4</td>\n",
       "      <td>1</td>\n",
       "      <td>1</td>\n",
       "      <td>...</td>\n",
       "      <td>Less Than 8 ft.</td>\n",
       "      <td>3</td>\n",
       "      <td>-20</td>\n",
       "      <td>23</td>\n",
       "      <td>1</td>\n",
       "      <td>1</td>\n",
       "      <td>20210516</td>\n",
       "      <td>DET</td>\n",
       "      <td>MIA</td>\n",
       "      <td>2</td>\n",
       "    </tr>\n",
       "  </tbody>\n",
       "</table>\n",
       "<p>228 rows × 25 columns</p>\n",
       "</div>"
      ],
      "text/plain": [
       "             GRID_TYPE     GAME_ID  GAME_EVENT_ID  PLAYER_ID  \\\n",
       "0    Shot Chart Detail  0022000005             92    1630173   \n",
       "1    Shot Chart Detail  0022000005            226    1630173   \n",
       "2    Shot Chart Detail  0022000005            393    1630173   \n",
       "3    Shot Chart Detail  0022000005            402    1630173   \n",
       "4    Shot Chart Detail  0022000005            412    1630173   \n",
       "..                 ...         ...            ...        ...   \n",
       "223  Shot Chart Detail  0022001069            448    1630173   \n",
       "224  Shot Chart Detail  0022001069            550    1630173   \n",
       "225  Shot Chart Detail  0022001069            570    1630173   \n",
       "226  Shot Chart Detail  0022001069            572    1630173   \n",
       "227  Shot Chart Detail  0022001069            592    1630173   \n",
       "\n",
       "          PLAYER_NAME     TEAM_ID   TEAM_NAME  PERIOD  MINUTES_REMAINING  \\\n",
       "0    Precious Achiuwa  1610612748  Miami Heat       1                  3   \n",
       "1    Precious Achiuwa  1610612748  Miami Heat       2                  6   \n",
       "2    Precious Achiuwa  1610612748  Miami Heat       3                  6   \n",
       "3    Precious Achiuwa  1610612748  Miami Heat       3                  5   \n",
       "4    Precious Achiuwa  1610612748  Miami Heat       3                  4   \n",
       "..                ...         ...         ...     ...                ...   \n",
       "223  Precious Achiuwa  1610612748  Miami Heat       3                  1   \n",
       "224  Precious Achiuwa  1610612748  Miami Heat       4                  4   \n",
       "225  Precious Achiuwa  1610612748  Miami Heat       4                  1   \n",
       "226  Precious Achiuwa  1610612748  Miami Heat       4                  1   \n",
       "227  Precious Achiuwa  1610612748  Miami Heat       4                  1   \n",
       "\n",
       "     SECONDS_REMAINING  ...  SHOT_ZONE_RANGE SHOT_DISTANCE LOC_X LOC_Y  \\\n",
       "0                   40  ...  Less Than 8 ft.             1    11    16   \n",
       "1                    4  ...  Less Than 8 ft.             5    55    16   \n",
       "2                    1  ...  Less Than 8 ft.             4    40    -9   \n",
       "3                   32  ...  Less Than 8 ft.             3   -29    12   \n",
       "4                   59  ...  Less Than 8 ft.             2    15    17   \n",
       "..                 ...  ...              ...           ...   ...   ...   \n",
       "223                 47  ...  Less Than 8 ft.             5   -43    27   \n",
       "224                  7  ...  Less Than 8 ft.             2   -20     5   \n",
       "225                 59  ...  Less Than 8 ft.             1   -13     6   \n",
       "226                 55  ...  Less Than 8 ft.             0     0     0   \n",
       "227                  1  ...  Less Than 8 ft.             3   -20    23   \n",
       "\n",
       "    SHOT_ATTEMPTED_FLAG SHOT_MADE_FLAG  GAME_DATE  HTM  VTM  attempted_points  \n",
       "0                     1              1   20201225  MIA  NOP                 2  \n",
       "1                     1              0   20201225  MIA  NOP                 2  \n",
       "2                     1              0   20201225  MIA  NOP                 2  \n",
       "3                     1              1   20201225  MIA  NOP                 2  \n",
       "4                     1              1   20201225  MIA  NOP                 2  \n",
       "..                  ...            ...        ...  ...  ...               ...  \n",
       "223                   1              1   20210516  DET  MIA                 2  \n",
       "224                   1              1   20210516  DET  MIA                 2  \n",
       "225                   1              0   20210516  DET  MIA                 2  \n",
       "226                   1              1   20210516  DET  MIA                 2  \n",
       "227                   1              1   20210516  DET  MIA                 2  \n",
       "\n",
       "[228 rows x 25 columns]"
      ]
     },
     "execution_count": 232,
     "metadata": {},
     "output_type": "execute_result"
    }
   ],
   "source": [
    "df"
   ]
  },
  {
   "cell_type": "code",
   "execution_count": null,
   "id": "b689a67a",
   "metadata": {
    "id": "b689a67a"
   },
   "outputs": [],
   "source": [
    "def accuracy(df):\n",
    "    return sum(df['SHOT_MADE_FLAG'])/sum(df['SHOT_ATTEMPTED_FLAG'])"
   ]
  },
  {
   "cell_type": "code",
   "execution_count": null,
   "id": "6d9f9d84",
   "metadata": {
    "id": "6d9f9d84"
   },
   "outputs": [],
   "source": [
    "two_pt_accuracy = accuracy(df[df['attempted_points'] == 2])"
   ]
  },
  {
   "cell_type": "code",
   "execution_count": null,
   "id": "04dbc3e1",
   "metadata": {
    "id": "04dbc3e1",
    "outputId": "2942b1b1-aa44-444c-d025-717ccfaa5d8f"
   },
   "outputs": [
    {
     "data": {
      "text/plain": [
       "0.48495186405634166"
      ]
     },
     "execution_count": 160,
     "metadata": {},
     "output_type": "execute_result"
    }
   ],
   "source": [
    "two_pt_accuracy"
   ]
  },
  {
   "cell_type": "code",
   "execution_count": null,
   "id": "0904ce4a",
   "metadata": {
    "id": "0904ce4a"
   },
   "outputs": [],
   "source": [
    "three_pt_accuracy = accuracy(df[df['attempted_points'] == 3])"
   ]
  },
  {
   "cell_type": "code",
   "execution_count": null,
   "id": "700fe2ea",
   "metadata": {
    "id": "700fe2ea",
    "outputId": "786d12bf-bf92-4bec-8290-1c877ba0e5fc"
   },
   "outputs": [
    {
     "data": {
      "text/plain": [
       "0.36705829191143247"
      ]
     },
     "execution_count": 164,
     "metadata": {},
     "output_type": "execute_result"
    }
   ],
   "source": [
    "three_pt_accuracy"
   ]
  },
  {
   "cell_type": "code",
   "execution_count": null,
   "id": "182cfbb0",
   "metadata": {
    "id": "182cfbb0"
   },
   "outputs": [],
   "source": [
    "overall_accuracy = accuracy(df)"
   ]
  },
  {
   "cell_type": "code",
   "execution_count": null,
   "id": "021cf4dd",
   "metadata": {
    "id": "021cf4dd",
    "outputId": "cee9a093-3fc7-4e29-8ea8-948ade688bef"
   },
   "outputs": [
    {
     "data": {
      "text/plain": [
       "0.4587348640908406"
      ]
     },
     "execution_count": 166,
     "metadata": {},
     "output_type": "execute_result"
    }
   ],
   "source": [
    "overall_accuracy"
   ]
  },
  {
   "cell_type": "code",
   "execution_count": null,
   "id": "b30b9630",
   "metadata": {
    "id": "b30b9630",
    "outputId": "c43fa865-c7ef-49df-e15a-24fef75f3321"
   },
   "outputs": [
    {
     "data": {
      "text/plain": [
       "154770"
      ]
     },
     "execution_count": 168,
     "metadata": {},
     "output_type": "execute_result"
    }
   ],
   "source": [
    "len(df[df['attempted_points'] == 2])"
   ]
  },
  {
   "cell_type": "code",
   "execution_count": null,
   "id": "0698a602",
   "metadata": {
    "id": "0698a602",
    "outputId": "48c91e21-3fc8-4c8b-cf93-6fe5142bd4e8"
   },
   "outputs": [
    {
     "data": {
      "text/plain": [
       "44260"
      ]
     },
     "execution_count": 169,
     "metadata": {},
     "output_type": "execute_result"
    }
   ],
   "source": [
    "len(df[df['attempted_points'] == 3])"
   ]
  },
  {
   "cell_type": "code",
   "execution_count": null,
   "id": "e106b24e",
   "metadata": {
    "id": "e106b24e"
   },
   "outputs": [],
   "source": []
  }
 ],
 "metadata": {
  "colab": {
   "provenance": []
  },
  "kernelspec": {
   "display_name": "Python 3 (ipykernel)",
   "language": "python",
   "name": "python3"
  },
  "language_info": {
   "codemirror_mode": {
    "name": "ipython",
    "version": 3
   },
   "file_extension": ".py",
   "mimetype": "text/x-python",
   "name": "python",
   "nbconvert_exporter": "python",
   "pygments_lexer": "ipython3",
   "version": "3.10.7"
  }
 },
 "nbformat": 4,
 "nbformat_minor": 5
}
